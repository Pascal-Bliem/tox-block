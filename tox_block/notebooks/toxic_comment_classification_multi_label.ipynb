{
 "cells": [
  {
   "cell_type": "code",
   "execution_count": 8,
   "metadata": {},
   "outputs": [],
   "source": [
    "# add this package to path\n",
    "sys.path.insert(0, r'C:\\Users\\pasca\\Dropbox\\DataScienceAndProgramming\\Projects\\tox-block\\tox-block')\n",
    "from tox_block.config import config\n",
    "from tox_block.data_processing import preprocessors as pp\n",
    "from tox_block.data_processing import data_handling as dh\n",
    "from tox_block.model import lstm_multi_label\n",
    "import numpy as np\n",
    "import pandas as pd\n",
    "import matplotlib.pyplot as plt\n",
    "import seaborn as sns\n",
    "sns.set_style(\"darkgrid\")\n",
    "import re\n",
    "import joblib\n",
    "from tensorflow.keras.models import load_model"
   ]
  },
  {
   "cell_type": "code",
   "execution_count": 2,
   "metadata": {},
   "outputs": [],
   "source": [
    "X_train, y_train = dh.load_data_multi_labels(config.TRAINING_DATA_FILE)\n",
    "X_test, y_test = dh.load_data_multi_labels(config.TESTING_DATA_FILE)"
   ]
  },
  {
   "cell_type": "code",
   "execution_count": 3,
   "metadata": {},
   "outputs": [],
   "source": []
  },
  {
   "cell_type": "code",
   "execution_count": 4,
   "metadata": {},
   "outputs": [],
   "source": [
    "ts = pp.TokenSequencer()\n",
    "X_train_seq = ts.fit_transform(X_train)\n",
    "X_test_seq = ts.transform(X_test)"
   ]
  },
  {
   "cell_type": "code",
   "execution_count": 5,
   "metadata": {},
   "outputs": [],
   "source": [
    "em = dh.get_embedding_matrix(ts)"
   ]
  },
  {
   "cell_type": "code",
   "execution_count": 6,
   "metadata": {},
   "outputs": [
    {
     "output_type": "stream",
     "name": "stdout",
     "text": "WARNING:tensorflow:From C:\\Users\\pasca\\Anaconda3\\envs\\toxblock_env\\lib\\site-packages\\tensorflow\\python\\ops\\resource_variable_ops.py:435: colocate_with (from tensorflow.python.framework.ops) is deprecated and will be removed in a future version.\nInstructions for updating:\nColocations handled automatically by placer.\nWARNING:tensorflow:From C:\\Users\\pasca\\Anaconda3\\envs\\toxblock_env\\lib\\site-packages\\tensorflow\\python\\keras\\backend.py:4010: calling dropout (from tensorflow.python.ops.nn_ops) with keep_prob is deprecated and will be removed in a future version.\nInstructions for updating:\nPlease use `rate` instead of `keep_prob`. Rate should be set to `rate = 1 - keep_prob`.\n_________________________________________________________________\nLayer (type)                 Output Shape              Param #   \n=================================================================\ninput_1 (InputLayer)         (None, 100)               0         \n_________________________________________________________________\nembedding (Embedding)        (None, 100, 50)           1000000   \n_________________________________________________________________\nbidirectional (Bidirectional (None, 100, 100)          40400     \n_________________________________________________________________\nglobal_max_pooling1d (Global (None, 100)               0         \n_________________________________________________________________\ndense (Dense)                (None, 50)                5050      \n_________________________________________________________________\ndropout (Dropout)            (None, 50)                0         \n_________________________________________________________________\ndense_1 (Dense)              (None, 6)                 306       \n=================================================================\nTotal params: 1,045,756\nTrainable params: 1,045,756\nNon-trainable params: 0\n_________________________________________________________________\n"
    }
   ],
   "source": [
    "model = lstm_multi_label.get_model(embedding_matrix=em)\n",
    "model.summary()"
   ]
  },
  {
   "cell_type": "code",
   "execution_count": 7,
   "metadata": {},
   "outputs": [
    {
     "output_type": "stream",
     "name": "stdout",
     "text": "Train on 143613 samples, validate on 15958 samples\nWARNING:tensorflow:From C:\\Users\\pasca\\Anaconda3\\envs\\toxblock_env\\lib\\site-packages\\tensorflow\\python\\ops\\math_ops.py:3066: to_int32 (from tensorflow.python.ops.math_ops) is deprecated and will be removed in a future version.\nInstructions for updating:\nUse tf.cast instead.\nWARNING:tensorflow:From C:\\Users\\pasca\\Anaconda3\\envs\\toxblock_env\\lib\\site-packages\\tensorflow\\python\\ops\\math_grad.py:102: div (from tensorflow.python.ops.math_ops) is deprecated and will be removed in a future version.\nInstructions for updating:\nDeprecated in favor of operator or tf.math.divide.\n143584/143613 [============================>.] - ETA: 0s - loss: 0.0586 - acc: 0.9796\nEpoch 00001: val_loss improved from inf to 0.05048, saving model to C:\\Users\\pasca\\Dropbox\\DataScienceAndProgramming\\Projects\\tox-block\\tox-block\\tox_block\\trained_models/checkpoint_BL.h5\n143613/143613 [==============================] - 1009s 7ms/sample - loss: 0.0586 - acc: 0.9796 - val_loss: 0.0505 - val_acc: 0.9809\n"
    }
   ],
   "source": [
    "history = model.fit(X_train_seq, y_train.to_numpy(), \n",
    "                    batch_size=config.BATCH_SIZE, \n",
    "                    epochs=config.EPOCHS, \n",
    "                    validation_split=config.VALIDATION_SPLIT,\n",
    "                    callbacks=lstm_binary_label.callbacks_list, \n",
    "                    #class_weight=config.CLASS_WEIGHT,\n",
    "                    )"
   ]
  },
  {
   "cell_type": "code",
   "execution_count": 8,
   "metadata": {},
   "outputs": [
    {
     "output_type": "stream",
     "name": "stdout",
     "text": "153164/153164 [==============================] - 203s 1ms/sample - loss: 0.2230 - acc: 0.9168\n"
    },
    {
     "output_type": "execute_result",
     "data": {
      "text/plain": "[0.2229632776401705, 0.91677]"
     },
     "metadata": {},
     "execution_count": 8
    }
   ],
   "source": [
    "model.evaluate(X_test_seq,y_test)"
   ]
  },
  {
   "cell_type": "code",
   "execution_count": 9,
   "metadata": {},
   "outputs": [],
   "source": [
    "y_pred = model.predict(X_test_seq)"
   ]
  },
  {
   "cell_type": "code",
   "execution_count": 10,
   "metadata": {},
   "outputs": [
    {
     "output_type": "stream",
     "name": "stdout",
     "text": "ACC: 0.7715977644877386\nF1: 0.16649414763495118\nROC-AUC: 0.9367596320716931\n"
    }
   ],
   "source": [
    "from sklearn.metrics import roc_auc_score, f1_score, accuracy_score\n",
    "print(f\"ACC: {accuracy_score(y_test,np.round(y_pred))}\")\n",
    "print(f\"F1: {f1_score(y_test,np.round(y_pred),average='macro')}\")\n",
    "print(f\"ROC-AUC: {roc_auc_score(y_test,y_pred)}\")\n",
    "\n",
    "\n"
   ]
  },
  {
   "cell_type": "code",
   "execution_count": 19,
   "metadata": {},
   "outputs": [
    {
     "output_type": "stream",
     "name": "stdout",
     "text": "toxic: 0.8905167250122382\nsevere_toxic: 0.9748855933391991\nobscene: 0.924322121638508\nthreat: 0.9581161025118052\ninsult: 0.916715842633365\nidentity_hate: 0.9560014072950426\n0.9367596320716931\n"
    }
   ],
   "source": [
    "aucs = []\n",
    "for i, c in enumerate(config.LIST_CLASSES):\n",
    "    auc = roc_auc_score(y_test.to_numpy()[:,i],y_pred[:,i])\n",
    "    print(f\"{c}: {auc}\")\n",
    "    aucs.append(auc)\n",
    "print(np.mean(aucs))"
   ]
  },
  {
   "cell_type": "markdown",
   "metadata": {},
   "source": [
    "Same with stopwords removed"
   ]
  },
  {
   "cell_type": "code",
   "execution_count": 3,
   "metadata": {},
   "outputs": [
    {
     "output_type": "stream",
     "name": "stdout",
     "text": "WARNING:tensorflow:From C:\\Users\\pasca\\Anaconda3\\envs\\toxblock_env\\lib\\site-packages\\tensorflow\\python\\ops\\resource_variable_ops.py:435: colocate_with (from tensorflow.python.framework.ops) is deprecated and will be removed in a future version.\nInstructions for updating:\nColocations handled automatically by placer.\nWARNING:tensorflow:From C:\\Users\\pasca\\Anaconda3\\envs\\toxblock_env\\lib\\site-packages\\tensorflow\\python\\keras\\backend.py:4010: calling dropout (from tensorflow.python.ops.nn_ops) with keep_prob is deprecated and will be removed in a future version.\nInstructions for updating:\nPlease use `rate` instead of `keep_prob`. Rate should be set to `rate = 1 - keep_prob`.\nTrain on 143613 samples, validate on 15958 samples\nWARNING:tensorflow:From C:\\Users\\pasca\\Anaconda3\\envs\\toxblock_env\\lib\\site-packages\\tensorflow\\python\\ops\\math_ops.py:3066: to_int32 (from tensorflow.python.ops.math_ops) is deprecated and will be removed in a future version.\nInstructions for updating:\nUse tf.cast instead.\nWARNING:tensorflow:From C:\\Users\\pasca\\Anaconda3\\envs\\toxblock_env\\lib\\site-packages\\tensorflow\\python\\ops\\math_grad.py:102: div (from tensorflow.python.ops.math_ops) is deprecated and will be removed in a future version.\nInstructions for updating:\nDeprecated in favor of operator or tf.math.divide.\n143584/143613 [============================>.] - ETA: 0s - loss: 0.0603 - acc: 0.9791\nEpoch 00001: val_loss improved from inf to 0.04918, saving model to C:\\Users\\pasca\\Dropbox\\DataScienceAndProgramming\\Projects\\tox-block\\tox-block\\tox_block\\trained_models/checkpoint_BL.h5\n143613/143613 [==============================] - 920s 6ms/sample - loss: 0.0602 - acc: 0.9791 - val_loss: 0.0492 - val_acc: 0.9815\n"
    }
   ],
   "source": [
    "X_train_processed = pd.read_csv(\"../data/X_train.csv\",skip_blank_lines=False)\n",
    "X_test_processed = pd.read_csv(\"../data/X_test.csv\",skip_blank_lines=False)\n",
    "ts = pp.TokenSequencer()\n",
    "X_train_seq = ts.fit_transform(X_train_processed)\n",
    "X_test_seq = ts.transform(X_test_processed)\n",
    "em = dh.get_embedding_matrix(ts)\n",
    "model = lstm_multi_label.get_model(embedding_matrix=em)\n",
    "history = model.fit(X_train_seq, y_train.to_numpy(), \n",
    "                    batch_size=config.BATCH_SIZE, \n",
    "                    epochs=config.EPOCHS, \n",
    "                    validation_split=config.VALIDATION_SPLIT,\n",
    "                    callbacks=lstm_binary_label.callbacks_list, \n",
    "                    )"
   ]
  },
  {
   "cell_type": "code",
   "execution_count": 4,
   "metadata": {},
   "outputs": [],
   "source": [
    "y_pred = model.predict(X_test_seq)"
   ]
  },
  {
   "cell_type": "code",
   "execution_count": 5,
   "metadata": {},
   "outputs": [
    {
     "output_type": "stream",
     "name": "stdout",
     "text": "ACC: 0.7911323809772531\nF1: 0.1554343908366093\nROC-AUC: 0.9347452078901068\n"
    }
   ],
   "source": [
    "from sklearn.metrics import roc_auc_score, f1_score, accuracy_score\n",
    "print(f\"ACC: {accuracy_score(y_test,np.round(y_pred))}\")\n",
    "print(f\"F1: {f1_score(y_test,np.round(y_pred),average='macro')}\")\n",
    "print(f\"ROC-AUC: {roc_auc_score(y_test,y_pred)}\")"
   ]
  },
  {
   "cell_type": "code",
   "execution_count": 10,
   "metadata": {},
   "outputs": [],
   "source": [
    "merged = pd.read_csv(config.MERGED_DATA_FILE)\n",
    "model = load_model(config.MODEL_PATH)\n",
    "encoder = joblib.load(config.ENCODER_PATH)"
   ]
  },
  {
   "cell_type": "code",
   "execution_count": 40,
   "metadata": {},
   "outputs": [
    {
     "output_type": "execute_result",
     "data": {
      "text/plain": "      toxic  severe_toxic   obscene    threat    insult  identity_hate\n0  0.532498      0.186156  0.485991  0.014387  0.464562       0.423471",
      "text/html": "<div>\n<style scoped>\n    .dataframe tbody tr th:only-of-type {\n        vertical-align: middle;\n    }\n\n    .dataframe tbody tr th {\n        vertical-align: top;\n    }\n\n    .dataframe thead th {\n        text-align: right;\n    }\n</style>\n<table border=\"1\" class=\"dataframe\">\n  <thead>\n    <tr style=\"text-align: right;\">\n      <th></th>\n      <th>toxic</th>\n      <th>severe_toxic</th>\n      <th>obscene</th>\n      <th>threat</th>\n      <th>insult</th>\n      <th>identity_hate</th>\n    </tr>\n  </thead>\n  <tbody>\n    <tr>\n      <th>0</th>\n      <td>0.532498</td>\n      <td>0.186156</td>\n      <td>0.485991</td>\n      <td>0.014387</td>\n      <td>0.464562</td>\n      <td>0.423471</td>\n    </tr>\n  </tbody>\n</table>\n</div>"
     },
     "metadata": {},
     "execution_count": 40
    }
   ],
   "source": [
    "text = pd.DataFrame([\"I must frankly say that I have very little to do with this world view...you stupit little fuck nigga\"], columns=[\"comment_text\"])\n",
    "pd.DataFrame(model.predict(encoder.transform(text)), columns=config.LIST_CLASSES)"
   ]
  },
  {
   "cell_type": "code",
   "execution_count": 56,
   "metadata": {},
   "outputs": [],
   "source": [
    "text = merged[merged.identity_hate>0].comment_text.to_frame()\n",
    "preds = pd.DataFrame(model.predict(encoder.transform(text)), columns=config.LIST_CLASSES)"
   ]
  },
  {
   "cell_type": "code",
   "execution_count": 57,
   "metadata": {},
   "outputs": [
    {
     "output_type": "execute_result",
     "data": {
      "text/plain": "             toxic  severe_toxic      obscene       threat       insult  \\\ncount  2117.000000   2117.000000  2117.000000  2117.000000  2117.000000   \nmean      0.470182      0.128319     0.348645     0.040099     0.351372   \nstd       0.169333      0.118683     0.214537     0.072784     0.199188   \nmin       0.001004      0.000005     0.000181     0.000009     0.000102   \n25%       0.374008      0.016116     0.149161     0.003313     0.181510   \n50%       0.488851      0.101505     0.387762     0.011656     0.374422   \n75%       0.574776      0.216818     0.516338     0.036840     0.509719   \nmax       0.933756      0.477057     0.900049     0.537239     0.852248   \n\n       identity_hate  \ncount    2117.000000  \nmean        0.258204  \nstd         0.153283  \nmin         0.000005  \n25%         0.109851  \n50%         0.286828  \n75%         0.395673  \nmax         0.497744  ",
      "text/html": "<div>\n<style scoped>\n    .dataframe tbody tr th:only-of-type {\n        vertical-align: middle;\n    }\n\n    .dataframe tbody tr th {\n        vertical-align: top;\n    }\n\n    .dataframe thead th {\n        text-align: right;\n    }\n</style>\n<table border=\"1\" class=\"dataframe\">\n  <thead>\n    <tr style=\"text-align: right;\">\n      <th></th>\n      <th>toxic</th>\n      <th>severe_toxic</th>\n      <th>obscene</th>\n      <th>threat</th>\n      <th>insult</th>\n      <th>identity_hate</th>\n    </tr>\n  </thead>\n  <tbody>\n    <tr>\n      <th>count</th>\n      <td>2117.000000</td>\n      <td>2117.000000</td>\n      <td>2117.000000</td>\n      <td>2117.000000</td>\n      <td>2117.000000</td>\n      <td>2117.000000</td>\n    </tr>\n    <tr>\n      <th>mean</th>\n      <td>0.470182</td>\n      <td>0.128319</td>\n      <td>0.348645</td>\n      <td>0.040099</td>\n      <td>0.351372</td>\n      <td>0.258204</td>\n    </tr>\n    <tr>\n      <th>std</th>\n      <td>0.169333</td>\n      <td>0.118683</td>\n      <td>0.214537</td>\n      <td>0.072784</td>\n      <td>0.199188</td>\n      <td>0.153283</td>\n    </tr>\n    <tr>\n      <th>min</th>\n      <td>0.001004</td>\n      <td>0.000005</td>\n      <td>0.000181</td>\n      <td>0.000009</td>\n      <td>0.000102</td>\n      <td>0.000005</td>\n    </tr>\n    <tr>\n      <th>25%</th>\n      <td>0.374008</td>\n      <td>0.016116</td>\n      <td>0.149161</td>\n      <td>0.003313</td>\n      <td>0.181510</td>\n      <td>0.109851</td>\n    </tr>\n    <tr>\n      <th>50%</th>\n      <td>0.488851</td>\n      <td>0.101505</td>\n      <td>0.387762</td>\n      <td>0.011656</td>\n      <td>0.374422</td>\n      <td>0.286828</td>\n    </tr>\n    <tr>\n      <th>75%</th>\n      <td>0.574776</td>\n      <td>0.216818</td>\n      <td>0.516338</td>\n      <td>0.036840</td>\n      <td>0.509719</td>\n      <td>0.395673</td>\n    </tr>\n    <tr>\n      <th>max</th>\n      <td>0.933756</td>\n      <td>0.477057</td>\n      <td>0.900049</td>\n      <td>0.537239</td>\n      <td>0.852248</td>\n      <td>0.497744</td>\n    </tr>\n  </tbody>\n</table>\n</div>"
     },
     "metadata": {},
     "execution_count": 57
    }
   ],
   "source": [
    "preds.describe()"
   ]
  },
  {
   "cell_type": "code",
   "execution_count": 45,
   "metadata": {},
   "outputs": [],
   "source": [
    "def rescale_proba(p: float, min: float, max: float):\n",
    "    return (p - min) / (max - min)"
   ]
  },
  {
   "cell_type": "code",
   "execution_count": 84,
   "metadata": {},
   "outputs": [
    {
     "output_type": "execute_result",
     "data": {
      "text/plain": "0    0.615287\nName: identity_hate, dtype: float32"
     },
     "metadata": {},
     "execution_count": 84
    }
   ],
   "source": [
    "text = pd.DataFrame([\"fucking Jew\"], columns=[\"comment_text\"])\n",
    "pred = pd.DataFrame(model.predict(encoder.transform(text)), columns=config.LIST_CLASSES)\n",
    "rescale_proba(pred.identity_hate,0.000005,0.497744)\n",
    "#pred.identity_hate"
   ]
  },
  {
   "cell_type": "code",
   "execution_count": null,
   "metadata": {},
   "outputs": [],
   "source": []
  }
 ],
 "metadata": {
  "language_info": {
   "codemirror_mode": {
    "name": "ipython",
    "version": 3
   },
   "file_extension": ".py",
   "mimetype": "text/x-python",
   "name": "python",
   "nbconvert_exporter": "python",
   "pygments_lexer": "ipython3",
   "version": "3.7.7-final"
  },
  "orig_nbformat": 2,
  "kernelspec": {
   "name": "python3",
   "display_name": "Python 3"
  }
 },
 "nbformat": 4,
 "nbformat_minor": 2
}