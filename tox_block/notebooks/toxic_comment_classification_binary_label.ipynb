{
 "cells": [
  {
   "cell_type": "code",
   "execution_count": 1,
   "metadata": {},
   "outputs": [],
   "source": [
    "# add this package to path\n",
    "sys.path.insert(0, r'C:\\Users\\pasca\\Dropbox\\DataScienceAndProgramming\\Projects\\tox-block\\tox-block')\n",
    "from tox_block.config import config\n",
    "from tox_block.data_processing import preprocessors as pp\n",
    "from tox_block.data_processing import data_handling as dh\n",
    "from tox_block.model import lstm_binary_label, lstm_multi_label\n",
    "import numpy as np\n",
    "import pandas as pd\n",
    "import matplotlib.pyplot as plt\n",
    "import seaborn as sns\n",
    "sns.set_style(\"darkgrid\")\n",
    "import re\n"
   ]
  },
  {
   "cell_type": "code",
   "execution_count": 2,
   "metadata": {},
   "outputs": [],
   "source": [
    "X_train, y_train = dh.load_data_binary_labels(config.TRAINING_DATA_FILE)\n",
    "X_test, y_test = dh.load_data_binary_labels(config.TESTING_DATA_FILE)"
   ]
  },
  {
   "cell_type": "code",
   "execution_count": 3,
   "metadata": {},
   "outputs": [],
   "source": [
    "#X_train_processed = pd.read_csv(\"../data/X_train.csv\",skip_blank_lines=False)\n",
    "#X_test_processed = pd.read_csv(\"../data/X_test.csv\",skip_blank_lines=False)"
   ]
  },
  {
   "cell_type": "code",
   "execution_count": 4,
   "metadata": {},
   "outputs": [],
   "source": [
    "ts = pp.TokenSequencer()\n",
    "X_train_seq = ts.fit_transform(X_train)\n",
    "X_test_seq = ts.transform(X_test)"
   ]
  },
  {
   "cell_type": "code",
   "execution_count": 5,
   "metadata": {},
   "outputs": [],
   "source": [
    "em = dh.get_embedding_matrix(ts)"
   ]
  },
  {
   "cell_type": "code",
   "execution_count": 6,
   "metadata": {},
   "outputs": [
    {
     "output_type": "stream",
     "name": "stdout",
     "text": "WARNING:tensorflow:From C:\\Users\\pasca\\Anaconda3\\envs\\toxblock_env\\lib\\site-packages\\tensorflow\\python\\ops\\resource_variable_ops.py:435: colocate_with (from tensorflow.python.framework.ops) is deprecated and will be removed in a future version.\nInstructions for updating:\nColocations handled automatically by placer.\nWARNING:tensorflow:From C:\\Users\\pasca\\Anaconda3\\envs\\toxblock_env\\lib\\site-packages\\tensorflow\\python\\keras\\backend.py:4010: calling dropout (from tensorflow.python.ops.nn_ops) with keep_prob is deprecated and will be removed in a future version.\nInstructions for updating:\nPlease use `rate` instead of `keep_prob`. Rate should be set to `rate = 1 - keep_prob`.\n_________________________________________________________________\nLayer (type)                 Output Shape              Param #   \n=================================================================\ninput_1 (InputLayer)         (None, 100)               0         \n_________________________________________________________________\nembedding (Embedding)        (None, 100, 50)           1000000   \n_________________________________________________________________\nbidirectional (Bidirectional (None, 100, 100)          40400     \n_________________________________________________________________\nglobal_max_pooling1d (Global (None, 100)               0         \n_________________________________________________________________\ndense (Dense)                (None, 50)                5050      \n_________________________________________________________________\ndropout (Dropout)            (None, 50)                0         \n_________________________________________________________________\ndense_1 (Dense)              (None, 1)                 51        \n=================================================================\nTotal params: 1,045,501\nTrainable params: 1,045,501\nNon-trainable params: 0\n_________________________________________________________________\n"
    }
   ],
   "source": [
    "model = lstm_binary_label.get_model(embedding_matrix=em)\n",
    "model.summary()"
   ]
  },
  {
   "cell_type": "code",
   "execution_count": 7,
   "metadata": {},
   "outputs": [
    {
     "output_type": "stream",
     "name": "stdout",
     "text": "Train on 143613 samples, validate on 15958 samples\nWARNING:tensorflow:From C:\\Users\\pasca\\Anaconda3\\envs\\toxblock_env\\lib\\site-packages\\tensorflow\\python\\ops\\math_ops.py:3066: to_int32 (from tensorflow.python.ops.math_ops) is deprecated and will be removed in a future version.\nInstructions for updating:\nUse tf.cast instead.\nWARNING:tensorflow:From C:\\Users\\pasca\\Anaconda3\\envs\\toxblock_env\\lib\\site-packages\\tensorflow\\python\\ops\\math_grad.py:102: div (from tensorflow.python.ops.math_ops) is deprecated and will be removed in a future version.\nInstructions for updating:\nDeprecated in favor of operator or tf.math.divide.\n143584/143613 [============================>.] - ETA: 0s - loss: 0.1235 - acc: 0.9556\nEpoch 00001: val_loss improved from inf to 0.10245, saving model to C:\\Users\\pasca\\Dropbox\\DataScienceAndProgramming\\Projects\\tox-block\\tox-block\\tox_block\\trained_models/checkpoint_BL.h5\n143613/143613 [==============================] - 961s 7ms/sample - loss: 0.1234 - acc: 0.9556 - val_loss: 0.1024 - val_acc: 0.9639\n"
    }
   ],
   "source": [
    "history = model.fit(X_train_seq, y_train.to_numpy(), \n",
    "                    batch_size=config.BATCH_SIZE, \n",
    "                    epochs=config.EPOCHS, \n",
    "                    validation_split=config.VALIDATION_SPLIT,\n",
    "                    callbacks=lstm_binary_label.callbacks_list, \n",
    "                    #class_weight=config.CLASS_WEIGHT,\n",
    "                    )"
   ]
  },
  {
   "cell_type": "code",
   "execution_count": 8,
   "metadata": {},
   "outputs": [
    {
     "output_type": "stream",
     "name": "stdout",
     "text": "153164/153164 [==============================] - 144s 939us/sample - loss: 0.5965 - acc: 0.8077\n"
    },
    {
     "output_type": "execute_result",
     "data": {
      "text/plain": "[0.5964728326013228, 0.8076637]"
     },
     "metadata": {},
     "execution_count": 8
    }
   ],
   "source": [
    "model.evaluate(X_test_seq,y_test)"
   ]
  },
  {
   "cell_type": "code",
   "execution_count": 9,
   "metadata": {},
   "outputs": [],
   "source": [
    "y_pred = model.predict(X_test_seq)"
   ]
  },
  {
   "cell_type": "code",
   "execution_count": 10,
   "metadata": {},
   "outputs": [
    {
     "output_type": "stream",
     "name": "stdout",
     "text": "ACC: 0.807663680760492\nF1: 0.5770046734568471\nROC-AUC: 0.8892040568683023\n"
    }
   ],
   "source": [
    "from sklearn.metrics import roc_auc_score, f1_score, accuracy_score\n",
    "print(f\"ACC: {accuracy_score(y_test,np.round(y_pred))}\")\n",
    "print(f\"F1: {f1_score(y_test,np.round(y_pred),average='macro')}\")\n",
    "print(f\"ROC-AUC: {roc_auc_score(y_test,y_pred)}\")\n",
    "\n",
    "\n"
   ]
  },
  {
   "cell_type": "markdown",
   "metadata": {},
   "source": [
    "Let's do the same again with class weights"
   ]
  },
  {
   "cell_type": "code",
   "execution_count": 11,
   "metadata": {},
   "outputs": [
    {
     "output_type": "stream",
     "name": "stdout",
     "text": "Train on 143613 samples, validate on 15958 samples\n143584/143613 [============================>.] - ETA: 0s - loss: 0.2364 - acc: 0.9127\nEpoch 00001: val_loss did not improve from 0.10245\n143613/143613 [==============================] - 900s 6ms/sample - loss: 0.2364 - acc: 0.9127 - val_loss: 0.1917 - val_acc: 0.9205\n"
    }
   ],
   "source": [
    "model = lstm_binary_label.get_model(embedding_matrix=em)\n",
    "history = model.fit(X_train_seq, y_train.to_numpy(), \n",
    "                    batch_size=config.BATCH_SIZE, \n",
    "                    epochs=config.EPOCHS, \n",
    "                    validation_split=config.VALIDATION_SPLIT,\n",
    "                    callbacks=lstm_binary_label.callbacks_list, \n",
    "                    class_weight=config.CLASS_WEIGHT,\n",
    "                    )"
   ]
  },
  {
   "cell_type": "code",
   "execution_count": 12,
   "metadata": {},
   "outputs": [],
   "source": [
    "y_pred = model.predict(X_test_seq)"
   ]
  },
  {
   "cell_type": "code",
   "execution_count": 13,
   "metadata": {},
   "outputs": [
    {
     "output_type": "stream",
     "name": "stdout",
     "text": "ACC: 0.708645634744457\nF1: 0.51693384471462\nROC-AUC: 0.8891845350004072\n"
    }
   ],
   "source": [
    "from sklearn.metrics import roc_auc_score, f1_score, accuracy_score\n",
    "print(f\"ACC: {accuracy_score(y_test,np.round(y_pred))}\")\n",
    "print(f\"F1: {f1_score(y_test,np.round(y_pred),average='macro')}\")\n",
    "print(f\"ROC-AUC: {roc_auc_score(y_test,y_pred)}\")"
   ]
  },
  {
   "cell_type": "code",
   "execution_count": null,
   "metadata": {},
   "outputs": [],
   "source": []
  }
 ],
 "metadata": {
  "language_info": {
   "codemirror_mode": {
    "name": "ipython",
    "version": 3
   },
   "file_extension": ".py",
   "mimetype": "text/x-python",
   "name": "python",
   "nbconvert_exporter": "python",
   "pygments_lexer": "ipython3",
   "version": "3.7.7-final"
  },
  "orig_nbformat": 2,
  "kernelspec": {
   "name": "python3",
   "display_name": "Python 3"
  }
 },
 "nbformat": 4,
 "nbformat_minor": 2
}